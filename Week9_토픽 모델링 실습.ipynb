{
 "cells": [
  {
   "cell_type": "markdown",
   "metadata": {},
   "source": [
    "# Topic Modeling with Sklearn"
   ]
  },
  {
   "cell_type": "markdown",
   "metadata": {},
   "source": [
    "영화 리뷰 데이터를 이용하여 topic modeling 학습"
   ]
  },
  {
   "cell_type": "markdown",
   "metadata": {},
   "source": [
    "토픽 모델링이란 텍스트 형태로 되어있는 다수의 문서들로부터 공통적으로 내재되어 있는 주제들을 추출하기 위한 방법론임.\n",
    "\n",
    "기본적인 가정은 , 저자들이 문서를 작성할 때 먼저 특정한 주제들을 정하고 나서 그러한 주제들로부터 문장을 구성한다는 것이다. 따라서 문서를 구성한 단어들은 그 주제들로부터 파생되어진 것을 볼 수 있으며, 토픽 모델링은 문서와 단어들에 대해 통계적인 추론을 수행하여 본래의 주제들을 찾아내는 방법이라고 할 수 있다. \n",
    "\n",
    "이러한 작업을 하기 위해서 먼저 자연어로 기술된 문서 -> 형태소 분석 -> 개별 단어로 분리해야함\n",
    "\n",
    "토픽 모델링의 가장 대표적인 알고리즘은 LDA(Latent Dirichlet Allocation)로 알려져 있다.LDA는 Blei et al. (2003)에 의해 제안된 알고리즘으로, 앞서 설명한 바와 같이, 확률기법을 기반으로 하여 문서의 토픽 분포를 추론한다."
   ]
  },
  {
   "cell_type": "code",
   "execution_count": 1,
   "metadata": {},
   "outputs": [],
   "source": [
    "import csv\n",
    "text = []\n",
    "y = []\n",
    "\n",
    "with open('movie_data_new.csv', encoding='utf-8') as csvfile:\n",
    "    csvreader = csv.reader(csvfile)\n",
    "    for row in csvreader:\n",
    "        #print(row)\n",
    "        if row and len(row[0]) > 10: #review 길이가 10자 이상인 경우만\n",
    "#        if row: #그 줄에 내용이 있는 경우에만\n",
    "            text.append(row[0]) #영화 리뷰를 text 리스트에 추가\n",
    "            y.append(row[2]) #영화이름을 text 리스트에 추가"
   ]
  },
  {
   "cell_type": "code",
   "execution_count": 2,
   "metadata": {},
   "outputs": [
    {
     "name": "stdout",
     "output_type": "stream",
     "text": [
      "리뷰 수: 12445\n",
      "리뷰영화: {'택시운전사', '라라랜드', '코코', '인피니티 워', '곤지암', '신과함께', '범죄도시'}\n"
     ]
    }
   ],
   "source": [
    "print('리뷰 수:', len(text))\n",
    "print('리뷰영화:', set(y))"
   ]
  },
  {
   "cell_type": "code",
   "execution_count": 3,
   "metadata": {},
   "outputs": [
    {
     "data": {
      "text/plain": [
       "['헐..다 죽었어....나중에 앤트맨 보다가도 깜놀...',\n",
       " '개연성은 무시해라 액션을 즐겨라 스타로드가 이끌어준다 각각의 영웅들을 즐겨라 그리고 단적인 신념이 얼마나 부질없는지 보셔라',\n",
       " '정말 지루할틈없이 넘잘만들었다 역시 대단하다',\n",
       " '마지막에 누구한테 연락한거지? 궁금',\n",
       " '다음 편이 궁굼해지네요^^',\n",
       " '안잼있는사람 있음???????????',\n",
       " '잘 만들었다! 지루할 틈이 없네...',\n",
       " '이제는 지겨워서 못보겠다',\n",
       " '롱턱 타노스의  장갑이 참 맘에 듬.  아이언 맨과 토르 닥터만 생고생하고..  가디언즈 오브 갤럭시 들 때문에  손해가 크다고 봄  들짐승 하고 칡뿌리 같은 캐릭이  재미를 더해줄줄 알았으나  아쉬움 . 분노의 상징 헐크가 겁을 먹다니..로키의 초반 출연뿐이 서운하지만  본 영화에 이어질 내용에 적합하지 않은지 서두에  죽는부분으로 마무리 됨은 심섬한 충격임 .  다음편에 헬라가 다시 나올까?',\n",
       " '와~~~~~진짜 개쪄는 인피니티워!!몇번을 봐도 개지린다.너무잼있다.어벤져스4도 너무 기대된다.빨리 2019년이왔으면 좋겠다.']"
      ]
     },
     "execution_count": 3,
     "metadata": {},
     "output_type": "execute_result"
    }
   ],
   "source": [
    "text[:10]"
   ]
  },
  {
   "cell_type": "markdown",
   "metadata": {},
   "source": [
    "한글 처리를 위해서는 konlpy가 필요\n",
    "topic modeling은 count vector를 사용하므로 sklearn의 CountVectorize를 사용"
   ]
  },
  {
   "cell_type": "code",
   "execution_count": 4,
   "metadata": {},
   "outputs": [],
   "source": [
    "from konlpy.tag import Okt #konlpy에서 Twitter 형태소 분석기를 import\n",
    "twitter_tag = Okt()\n",
    "\n",
    "from sklearn.feature_extraction.text import CountVectorizer\n",
    "\n",
    "vec = CountVectorizer(tokenizer=twitter_tag.nouns, #우선은 명사만 사용\n",
    "                      decode_error ='ignore', \n",
    "                      max_df=0.5, #너무 자주 나타나는 단어는 제외, 책에서는 0.15를 사용\n",
    "                      #min_df = 3, #3개 미만의 문서에서 나타난 단어는 제외, 여기서는 max_features를 1000으로 제한하므로 별 필요 없음\n",
    "                      max_features = 1000) #적당한 대상 단어 수를 선택\n",
    "review_cv = vec.fit_transform(text)"
   ]
  },
  {
   "cell_type": "code",
   "execution_count": 5,
   "metadata": {},
   "outputs": [
    {
     "data": {
      "text/plain": [
       "(12445, 1000)"
      ]
     },
     "execution_count": 5,
     "metadata": {},
     "output_type": "execute_result"
    }
   ],
   "source": [
    "review_cv.shape"
   ]
  },
  {
   "cell_type": "code",
   "execution_count": 6,
   "metadata": {},
   "outputs": [],
   "source": [
    "from sklearn.decomposition import LatentDirichletAllocation\n",
    "\n",
    "lda = LatentDirichletAllocation(n_components = 10, #추출할 topic의 수를 지정\n",
    "                                max_iter=25, #max_iter는 최종 모형에서는 5,000~10,000번 시도한다고 알려져 있음\n",
    "                                topic_word_prior= 0.1, doc_topic_prior=1.0,\n",
    "                                #topic_word_prior: beta, doc_topic_prior: alpha\n",
    "                                #일반적으로 beta는 0.1로 고정하고 alpha를 50/topic의 수 근처의 값을 시도\n",
    "                                #alpha와 beta는 낮은 값을 사용할수록 특정 토픽들이 두드러지도록 하는 효과가 있다고 합\n",
    "                                learning_method='batch', #'batch'는 'online'에 비해 더 성능이 좋고 느림, 현재는 default\n",
    "                                n_jobs= -1, #사용 processor 수, None이면 1, -1이면 모두 사용\n",
    "                                random_state=0)\n",
    "\n",
    "review_topics = lda.fit_transform(review_cv)"
   ]
  },
  {
   "cell_type": "code",
   "execution_count": 7,
   "metadata": {},
   "outputs": [
    {
     "name": "stdout",
     "output_type": "stream",
     "text": [
      "topic-word distribution dimension: (10, 1000)\n",
      "document-topic distribution dimenstion (12445, 10)\n"
     ]
    }
   ],
   "source": [
    "print('topic-word distribution dimension:', lda.components_.shape)\n",
    "print('document-topic distribution dimenstion', review_topics.shape)"
   ]
  },
  {
   "cell_type": "markdown",
   "metadata": {},
   "source": [
    "topic을 보기 쉽게 출력하고 함수를 작성"
   ]
  },
  {
   "cell_type": "code",
   "execution_count": 8,
   "metadata": {},
   "outputs": [],
   "source": [
    "def print_top_words(model, feature_names, n_top_words):\n",
    "    for topic_idx, topic in enumerate(model.components_):\n",
    "        print(\"Topic #%d: \" % topic_idx, end='')\n",
    "        print(\", \".join([feature_names[i] for i in topic.argsort()[:-n_top_words - 1:-1]]))\n",
    "        #print(\", \".join([feature_names[i]+'('+str(topic[i])+')' for i in topic.argsort()[:-n_top_words - 1:-1]]))\n",
    "        # 위 slicing에서 맨 뒤 -1은 역순을 의미, 역순으로 했을 때 처음부터 n_top_words까지\n",
    "    print()"
   ]
  },
  {
   "cell_type": "code",
   "execution_count": 9,
   "metadata": {},
   "outputs": [
    {
     "name": "stdout",
     "output_type": "stream",
     "text": [
      "Topic #0: 사람, 보고, 내용, 원작, 편, 마블, 이해, 노스, 다음, 결말\n",
      "Topic #1: 더, 말, 듯, 그, 사랑, 것, 이야기, 현실, 조금, 대한\n",
      "Topic #2: 좀, 수, 볼, 것, 부분, 끝, 함, 눈, 느낌, 소재\n",
      "Topic #3: 점, 정말, 꼭, 내, 때, 음악, 영화, 때문, 중, 신\n",
      "Topic #4: 이, 정도, 왜, 신파, 그냥, 한국, 영화, 감독, 작품, 관객\n",
      "Topic #5: 연기, 배우, 최고, 마동석, 윤계상, 액션, 송강호, 역시, 연기력, 조연\n",
      "Topic #6: 스토리, 감동, 진짜, 눈물, 기대, 마지막, 재미, 또, 모두, 웹툰\n",
      "Topic #7: 영화, 생각, 감동, 가족, 다시, 한번, 처음, 보기, 아이, 추천\n",
      "Topic #8: 광주, 장면, 중간, 그, 역사, 우리, 가슴, 번, 분, 택시\n",
      "Topic #9: 시간, 돈, 나, 평점, 거, 뭐, 공포영화, 공포, 별로, 애\n",
      "\n"
     ]
    }
   ],
   "source": [
    "print_top_words(lda,vec.get_feature_names(), 10)"
   ]
  },
  {
   "cell_type": "markdown",
   "metadata": {},
   "source": [
    "한 자로 구성된 명사들은 의미파악이 어려우므로 삭제할 필요가 있음"
   ]
  },
  {
   "cell_type": "markdown",
   "metadata": {},
   "source": [
    "두 자 이상만 반환하는 함수를 작성"
   ]
  },
  {
   "cell_type": "code",
   "execution_count": 11,
   "metadata": {},
   "outputs": [
    {
     "data": {
      "text/plain": [
       "['개연', '성은', '무시', '액션', '스타로드', '각각', '영웅', '적', '신념', '얼마나']"
      ]
     },
     "execution_count": 11,
     "metadata": {},
     "output_type": "execute_result"
    }
   ],
   "source": [
    "twitter_tag.nouns(text[1])"
   ]
  },
  {
   "cell_type": "code",
   "execution_count": 12,
   "metadata": {},
   "outputs": [],
   "source": [
    "def tokenizer(str):\n",
    "    return [token for token in twitter_tag.nouns(str) if len(token) > 1]"
   ]
  },
  {
   "cell_type": "code",
   "execution_count": 13,
   "metadata": {},
   "outputs": [
    {
     "data": {
      "text/plain": [
       "['개연', '성은', '무시', '액션', '스타로드', '각각', '영웅', '신념', '얼마나']"
      ]
     },
     "execution_count": 13,
     "metadata": {},
     "output_type": "execute_result"
    }
   ],
   "source": [
    "tokenizer(text[1])"
   ]
  },
  {
   "cell_type": "code",
   "execution_count": 14,
   "metadata": {},
   "outputs": [],
   "source": [
    "#count vector 새로 생성\n",
    "vec = CountVectorizer(tokenizer=tokenizer, decode_error ='ignore', \n",
    "                      max_df=0.5, max_features = 1000) #너무 자주 나타나는 단어는 제외\n",
    "review_cv = vec.fit_transform(text)"
   ]
  },
  {
   "cell_type": "code",
   "execution_count": 15,
   "metadata": {},
   "outputs": [
    {
     "name": "stdout",
     "output_type": "stream",
     "text": [
      "Topic #0: 느낌, 관객, 공포, 얘기, 영화, 갈수록, 상상, 노잼, 스트레스, 내년\n",
      "Topic #1: 가족, 지옥, 대한, 설정, 저승, 부모님, 점수, 영화, 여자, 생각\n",
      "Topic #2: 영화, 눈물, 이건, 진짜, 댓글, 시나리오, 억지로, 라라, 랜드, 인생\n",
      "Topic #3: 연기, 차태현, 김동욱, 주지훈, 이후, 대해, 진짜, 김향기, 막판, 아저씨\n",
      "Topic #4: 송강호, 택시, 계속, 가슴, 기자, 운전사, 정신, 해도, 영화, 한마디\n",
      "Topic #5: 아이, 관람, 영화, 강철, 보고, 세상, 설명, 생각, 마음, 부모\n",
      "Topic #6: 영화관, 영화, 편이, 가지, 인상, 유머, 또한, 도대체, 재즈, 장첸\n",
      "Topic #7: 귀신, 기대, 기분, 시대, 명작, 형사, 영화, 외국, 공포, 최고\n",
      "Topic #8: 영화, 약간, 시작, 세계, 구성, 그것, 요즘, 정말, 눈물, 한번\n",
      "Topic #9: 부분, 추천, 나름, 소리, 아주, 라면, 순간, 다큐, 보시, 오역\n",
      "Topic #10: 신파, 억지, 엄마, 드라마, 눈물, 중국, 스케일, 영화, 주제, 스토리\n",
      "Topic #11: 다시, 인간, 집중, 한번, 정도, 영웅, 영화, 시간, 추격, 시도\n",
      "Topic #12: 원작, 연기력, 다른, 영화, 올해, 자신, 요소, 효과, 문제, 폭력\n",
      "Topic #13: 마블, 노스, 결말, 어벤져스, 히어로, 이해, 다음, 시리즈, 이번, 토르\n",
      "Topic #14: 역시, 영화, 생각, 정도, 박수, 충격, 기대, 이승, 꿀잼, 사후세계\n",
      "Topic #15: 액션, 영화, 범죄, 도시, 최고, 취향, 남한, 모두, 재미, 마동석\n",
      "Topic #16: 광주, 역사, 시민, 위해, 전두환, 민주화, 희생, 운동, 민주주의, 가슴\n",
      "Topic #17: 영화, 상영, 가장, 처음, 정말, 나라, 반성, 각색, 관객수, 대안\n",
      "Topic #18: 감독, 영화, 천만, 최악, 개연, 수준, 한국, 스크린, 헐리웃, 뭔가\n",
      "Topic #19: 중간, 영화, 이제, 매우, 코믹, 완성, 더욱, 비교, 결론, 정말\n",
      "Topic #20: 영화, 개인, 강추, 최고, 생각, 몰입도, 볼거리, 누가, 슬픔, 재미\n",
      "Topic #21: 음악, 뮤지컬, 노래, 영화, 인생, 매력, 스톤, 마무리, 최고, 선택\n",
      "Topic #22: 사람, 이영화, 영화, 모습, 절대, 조폭, 때문, 경찰, 무서움, 걱정\n",
      "Topic #23: 영화, 여운, 후반, 혼자, 기술, 초반, 화보, 화가, 전반, 마지막\n",
      "Topic #24: 평점, 시간, 한국영, 알바, 영화, 발전, 공감, 언제, 그대로, 내용\n",
      "Topic #25: 영화, 판타지, 반전, 감성, 사람, 정말, 수가, 생각, 마지막, 가치\n",
      "Topic #26: 우리, 영화, 국민, 흥행, 대한민국, 의미, 다만, 감독, 성공, 불가\n",
      "Topic #27: 전개, 영화, 간만, 아들, 재미, 쓰레기, 눈물, 예상, 마지막, 감동\n",
      "Topic #28: 영화, 조금, 제대로, 몰입, 생각, 그냥, 분노, 한편, 잔인함, 선물\n",
      "Topic #29: 영화, 우리나라, 교훈, 스토리, 연기자, 기대, 재미, 생각, 잘못, 이해\n",
      "Topic #30: 장면, 영화, 연기, 연출, 최고, 배우, 다가, 마지막, 진짜, 정말\n",
      "Topic #31: 보고, 실망, 중반, 영화, 재미, 다음, 무엇, 번역, 동안, 스포\n",
      "Topic #32: 공포영화, 영화, 보지, 이유, 거의, 그냥, 진짜, 타임, 웃기, 어벤저스\n",
      "Topic #33: 사랑, 이야기, 현실, 역대, 남자, 영화, 역할, 어찌, 서로, 거지\n",
      "Topic #34: 기억, 조선족, 대사, 실제, 상황, 마블리, 죽음, 영화인, 연기, 만점\n",
      "Topic #35: 보고, 오늘, 그냥, 예고편, 영화, 곤지암, 긴장감, 일단, 자극, 처음\n",
      "Topic #36: 영화, 영상, 제일, 아픔, 배경, 평가, 인생, 갑자기, 자기, 스토리\n",
      "Topic #37: 윤계상, 마동석, 조연, 주인공, 연기, 전혀, 주연, 안보, 묘사, 주변\n",
      "Topic #38: 웹툰, 사실, 영화, 감정, 다소, 내용, 초딩, 간다, 무조건, 항쟁\n",
      "Topic #39: 작품, 한국, 극장, 오락, 신파극, 마음, 영화, 정도, 소문, 심장\n",
      "Topic #40: 스토리, 영화, 때문, 웃음, 펑펑, 코드, 나중, 노력, 그닥, 전형\n",
      "Topic #41: 영화, 몰입, 기도, 오히려, 정도, 화면, 인정, 실감, 살짝, 잘만\n",
      "Topic #42: 별로, 소재, 내내, 연출, 자체, 차라리, 원래, 분위기, 존재, 최근\n",
      "Topic #43: 영화, 그래픽, 지루함, 무슨, 진짜, 캐스팅, 동생, 줄거리, 스토리, 애니메이션\n",
      "Topic #44: 지금, 모든, 사람, 후회, 진실, 실화, 영화, 그때, 거리, 이하\n",
      "Topic #45: 감동, 엔딩, 진심, 디즈니, 전체, 코코, 어른, 겨울왕국, 픽사, 처음\n",
      "Topic #46: 영화로, 영화, 아쉬움, 얼마나, 개봉, 악역, 누구, 제발, 이정재, 수도\n",
      "Topic #47: 하나, 캐릭터, 하정우, 표현, 만화, 어머니, 여기, 그게, 짜임새, 행동\n",
      "Topic #48: 완전, 대박, 친구, 영화, 장르, 기대, 머리, 얼굴, 스릴, 수작\n",
      "Topic #49: 배우, 내용, 이상, 보기, 연기, 출연, 영화, 킬링타임, 리얼, 참고\n",
      "\n"
     ]
    }
   ],
   "source": [
    "#topic modeling 수행\n",
    "lda = LatentDirichletAllocation(n_components = 50, max_iter=25, \n",
    "                                topic_word_prior= 0.1, doc_topic_prior=1.0,\n",
    "                                learning_method='batch',\n",
    "                                n_jobs= -1,\n",
    "                                random_state=0)\n",
    "review_topics = lda.fit_transform(review_cv)\n",
    "print_top_words(lda,vec.get_feature_names(), 10)"
   ]
  },
  {
   "cell_type": "code",
   "execution_count": 16,
   "metadata": {},
   "outputs": [
    {
     "name": "stdout",
     "output_type": "stream",
     "text": [
      "topic-word distribution dimension: (50, 1000)\n",
      "Cluster label: [4 4 0 2 4 4 4 4 0 4 4 4 4 4 4 4 3 0 4 4 4 4 4 4 4 4 4 4 4 0 4 4 4 4 4 4 0\n",
      " 4 4 4 4 4 4 0 4 1 4 4 4 4]\n"
     ]
    }
   ],
   "source": [
    "from sklearn.cluster import KMeans\n",
    "\n",
    "kmeans = KMeans(n_clusters=5) #5개 클러스터로 분류\n",
    "kmeans.fit(lda.components_)\n",
    "\n",
    "print('topic-word distribution dimension:', lda.components_.shape)\n",
    "print('Cluster label:', kmeans.labels_)"
   ]
  },
  {
   "cell_type": "code",
   "execution_count": 17,
   "metadata": {},
   "outputs": [
    {
     "name": "stdout",
     "output_type": "stream",
     "text": [
      "TSNE dimension: (50, 2)\n"
     ]
    },
    {
     "data": {
      "text/plain": [
       "array([ 111.44418   , -176.71246   ,  -72.902534  , -115.149475  ,\n",
       "         49.07052   ,   48.58094   ,   21.047157  ,   29.824371  ,\n",
       "        -89.82884   ,   72.83461   ,  125.02963   ,  -86.04386   ,\n",
       "        -44.119583  ,  134.10103   ,  -25.14565   ,  -12.696996  ,\n",
       "        174.36945   ,  -59.140575  ,    6.4215283 ,    5.6800647 ,\n",
       "        -58.484707  ,   64.219086  ,  -48.09718   ,  -30.496912  ,\n",
       "       -140.68683   ,  -29.441616  ,  -19.23334   ,   58.95405   ,\n",
       "        -62.125904  , -128.86403   ,  -75.93277   ,   31.491327  ,\n",
       "        -28.909086  ,   14.163058  ,   22.095682  , -114.88224   ,\n",
       "        -96.10586   ,   33.038853  , -118.48908   ,   79.564644  ,\n",
       "          0.17863263,    0.19087343,  120.98956   ,  -93.34416   ,\n",
       "         71.99547   ,   84.95771   ,   -5.1511683 ,  101.25556   ,\n",
       "        -49.915867  , -174.96976   ], dtype=float32)"
      ]
     },
     "execution_count": 17,
     "metadata": {},
     "output_type": "execute_result"
    }
   ],
   "source": [
    "from sklearn.manifold import TSNE\n",
    "tsne = TSNE(n_components=2, random_state=42)\n",
    "tsne_review = tsne.fit_transform(lda.components_)\n",
    "print('TSNE dimension:', tsne_review.shape)\n",
    "tsne_review[:,0]"
   ]
  },
  {
   "cell_type": "code",
   "execution_count": 18,
   "metadata": {},
   "outputs": [],
   "source": [
    "%matplotlib inline\n",
    "import matplotlib.pyplot as plt\n",
    "from matplotlib import font_manager, rc\n",
    "font_name = font_manager.FontProperties(fname=\"c:/Windows/Fonts/malgun.ttf\").get_name()\n",
    "rc('font', family=font_name)\n",
    "import matplotlib as mpl\n",
    "\n",
    "# 그래프에서 마이너스 폰트 깨지는 문제에 대한 대처\n",
    "mpl.rcParams['axes.unicode_minus'] = False"
   ]
  },
  {
   "cell_type": "code",
   "execution_count": 19,
   "metadata": {},
   "outputs": [
    {
     "data": {
      "image/png": "[encoded data removed]",
      "text/plain": [
       "<Figure size 432x288 with 1 Axes>"
      ]
     },
     "metadata": {
      "needs_background": "light"
     },
     "output_type": "display_data"
    },
    {
     "data": {
      "image/png": "[encoded data removed]",
      "text/plain": [
       "<Figure size 1080x720 with 1 Axes>"
      ]
     },
     "metadata": {
      "needs_background": "light"
     },
     "output_type": "display_data"
    }
   ],
   "source": [
    "colors = {0:'blue', 1:'yellow', 2:'red', 3:'green', 4:'purple'}\n",
    "x1 = tsne_review[:,0]\n",
    "x2 = tsne_review[:,1]\n",
    "plt.scatter(x1, x2)\n",
    "\n",
    "plt.figure(figsize=(15,10))\n",
    "plt.xlim(min(x1), max(x1))\n",
    "plt.ylim(min(x2), max(x2))\n",
    "for i in range(len(x1)):\n",
    "#    plt.text(X1_lsi[i], X2_lsi[i], sample_label[i],\n",
    "#            color = colors[sample_label[i]])\n",
    "    plt.text(x1[i], x2[i], kmeans.labels_[i],\n",
    "            color = colors[kmeans.labels_[i]])\n",
    "\n",
    "#for word, pos in df.iterrows():\n",
    "#    ax.annotate(word, pos, fontsize=30)\n",
    "plt.show()\n",
    "\n",
    "#아래 결과를 보면 각 topic들이 고르게 분포하고 있어, 클러스터링이 별로 의미 없음을 알 수 있음"
   ]
  },
  {
   "cell_type": "markdown",
   "metadata": {},
   "source": [
    "최적의 결과를 찾기 위한 방법"
   ]
  },
  {
   "cell_type": "code",
   "execution_count": 20,
   "metadata": {},
   "outputs": [
    {
     "data": {
      "text/plain": [
       "584.0328574337016"
      ]
     },
     "execution_count": 20,
     "metadata": {},
     "output_type": "execute_result"
    }
   ],
   "source": [
    "lda.perplexity(review_cv)"
   ]
  },
  {
   "cell_type": "code",
   "execution_count": 21,
   "metadata": {},
   "outputs": [
    {
     "name": "stdout",
     "output_type": "stream",
     "text": [
      "Topic #0: 영화, 느낌, 관객, 얘기, 사람, 곤지암, 감동, 갈수록, 시간, 영화관\n",
      "Topic #1: 가족, 영화, 설정, 저승, 감동, 점수, 부모님, 생각, 여자, 사람\n",
      "Topic #2: 영화, 눈물, 생각, 진짜, 시나리오, 스토리, 이건, 인정, 감동, 시작\n",
      "Topic #3: 연기, 차태현, 하정우, 진짜, 김동욱, 눈물, 어머니, 주지훈, 영화, 신파\n",
      "Topic #4: 영화, 계속, 기자, 그냥, 연기, 정신, 배우, 정말, 알바, 상황\n",
      "Topic #5: 영화, 아이, 사랑, 강철, 무슨, 보고, 마음, 관람, 평가, 아주\n",
      "Topic #6: 영화, 인상, 가지, 유머, 일단, 제대로, 도대체, 재즈, 한국, 기대\n",
      "Topic #7: 공포, 영화, 귀신, 연출, 형사, 외국, 거의, 코드, 명작, 흥행\n",
      "Topic #8: 영화, 세계, 약간, 사람, 정말, 쓰레기, 그것, 실감, 감동, 구성\n",
      "Topic #9: 영화, 소리, 추천, 부분, 나름, 아들, 순간, 다큐, 연기자, 영화인\n",
      "Topic #10: 영화, 그냥, 집중, 드라마, 중국, 눈물, 감동, 생각, 감성, 만화\n",
      "Topic #11: 윤계상, 연기, 마동석, 인간, 영화, 조선족, 다시, 영웅, 배우, 역할\n",
      "Topic #12: 영화, 원작, 연기력, 생각, 요소, 올해, 실제, 감동, 효과, 초딩\n",
      "Topic #13: 마블, 노스, 어벤져스, 히어로, 캐릭터, 시리즈, 이해, 이번, 예고편, 영화\n",
      "Topic #14: 영화, 디즈니, 생각, 눈물, 동안, 자체, 자극, 박수, 정도, 취향\n",
      "Topic #15: 영화, 범죄, 도시, 감동, 실화, 배우, 캐스팅, 이후, 재미, 신파\n",
      "Topic #16: 광주, 택시, 역사, 시민, 우리, 위해, 국민, 민주화, 전두환, 진실\n",
      "Topic #17: 영화, 정말, 교훈, 연기, 반성, 나라, 배우, 스릴, 사람, 보고\n",
      "Topic #18: 영화, 수준, 관객, 최악, 감독, 전체, 개연, 천만, 배우, 역대\n",
      "Topic #19: 영화, 감동, 정말, 연기, 코믹, 기도, 완성, 예상, 죽음, 더욱\n",
      "Topic #20: 영화, 생각, 웃음, 윤계상, 개인, 개봉, 연기, 몰입도, 마동석, 슬픔\n",
      "Topic #21: 영화, 중간, 음악, 주인공, 뮤지컬, 노래, 반전, 감동, 사랑, 스톤\n",
      "Topic #22: 영화, 이영화, 사람, 제일, 조폭, 어른, 마블리, 때문, 진짜, 절대\n",
      "Topic #23: 영화, 공포영화, 초반, 후반, 배우, 연기, 혼자, 안보, 기술, 화보\n",
      "Topic #24: 영화, 보지, 시간, 스토리, 발전, 내용, 웹툰, 언제, 마지막, 정도\n",
      "\n"
     ]
    },
    {
     "data": {
      "text/plain": [
       "556.148656054139"
      ]
     },
     "execution_count": 21,
     "metadata": {},
     "output_type": "execute_result"
    }
   ],
   "source": [
    "#topic modeling 수행\n",
    "lda = LatentDirichletAllocation(n_components = 25, max_iter=25, \n",
    "                                topic_word_prior= 0.1, doc_topic_prior=2.0,\n",
    "                                learning_method='batch',\n",
    "                                n_jobs= -1,\n",
    "                                random_state=0)\n",
    "review_topics = lda.fit_transform(review_cv)\n",
    "print_top_words(lda,vec.get_feature_names(), 10)\n",
    "lda.perplexity(review_cv)"
   ]
  },
  {
   "cell_type": "code",
   "execution_count": 22,
   "metadata": {},
   "outputs": [
    {
     "name": "stdout",
     "output_type": "stream",
     "text": [
      "Topic #0: 느낌, 공포영화, 한국, 별로, 관객, 공포, 전개, 정도, 초반, 영화관\n",
      "Topic #1: 감동, 사람, 생각, 재미, 가족, 모두, 이야기, 보기, 대한, 지옥\n",
      "Topic #2: 영화, 음악, 인생, 처음, 생각, 최악, 상영, 간만, 시작, 댓글\n",
      "Topic #3: 연기, 배우, 진짜, 마동석, 윤계상, 장면, 신파, 눈물, 차태현, 액션\n",
      "Topic #4: 정말, 그냥, 다시, 가슴, 택시, 몰입, 소재, 내내, 영화로, 알바\n",
      "Topic #5: 보고, 내용, 눈물, 사랑, 마음, 수준, 현실, 아이, 기억, 한국영\n",
      "Topic #6: 광주, 기대, 중간, 우리, 웹툰, 사실, 시민, 인간, 나름, 실망\n",
      "Topic #7: 최고, 마지막, 평점, 감독, 역사, 송강호, 역시, 작품, 연출, 귀신\n",
      "Topic #8: 스토리, 원작, 한번, 정도, 완전, 천만, 주인공, 지금, 가장, 약간\n",
      "Topic #9: 시간, 마블, 하나, 이해, 부분, 추천, 노스, 다음, 결말, 영상\n",
      "\n"
     ]
    },
    {
     "data": {
      "text/plain": [
       "426.0863075183735"
      ]
     },
     "execution_count": 22,
     "metadata": {},
     "output_type": "execute_result"
    }
   ],
   "source": [
    "#topic modeling 수행\n",
    "lda = LatentDirichletAllocation(n_components = 10, max_iter=25, \n",
    "                                topic_word_prior= 0.1, doc_topic_prior=1.0,\n",
    "                                learning_method='batch',\n",
    "                                n_jobs= -1,\n",
    "                                random_state=0)\n",
    "review_topics = lda.fit_transform(review_cv)\n",
    "print_top_words(lda,vec.get_feature_names(), 10)\n",
    "lda.perplexity(review_cv)"
   ]
  },
  {
   "cell_type": "code",
   "execution_count": null,
   "metadata": {},
   "outputs": [],
   "source": []
  }
 ],
 "metadata": {
  "kernelspec": {
   "display_name": "Python 3",
   "language": "python",
   "name": "python3"
  },
  "language_info": {
   "codemirror_mode": {
    "name": "ipython",
    "version": 3
   },
   "file_extension": ".py",
   "mimetype": "text/x-python",
   "name": "python",
   "nbconvert_exporter": "python",
   "pygments_lexer": "ipython3",
   "version": "3.8.3"
  }
 },
 "nbformat": 4,
 "nbformat_minor": 4
}
